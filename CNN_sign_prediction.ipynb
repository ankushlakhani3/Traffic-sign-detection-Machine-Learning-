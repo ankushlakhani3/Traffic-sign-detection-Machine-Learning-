{
 "cells": [
  {
   "cell_type": "code",
   "execution_count": null,
   "id": "c5542e69",
   "metadata": {},
   "outputs": [],
   "source": [
    "# Flask project link \n",
    "# I have added user interface to this project using flask which can be accessed using following link \n",
    "# https://drive.google.com/drive/u/3/folders/1WUkobjCQ2sNF6uoCVeUuvq82uBfv3Xv-\n",
    "# To deploy this fast project I have mentioned all depedencies in requirement.txt "
   ]
  },
  {
   "cell_type": "code",
   "execution_count": 2,
   "id": "3203ff07-d819-4a77-a6f2-a82e2d4a39a8",
   "metadata": {},
   "outputs": [],
   "source": [
    "import numpy as np \n",
    "import pandas as pd \n",
    "import matplotlib.pyplot as plt\n",
    "import cv2\n",
    "import tensorflow as tf\n",
    "from PIL import Image\n",
    "import os\n",
    "from sklearn.model_selection import train_test_split\n",
    "from keras.utils import to_categorical\n",
    "from keras.models import Sequential, load_model\n",
    "from keras.layers import Conv2D, MaxPool2D, Dense, Flatten, Dropout"
   ]
  },
  {
   "cell_type": "markdown",
   "id": "a4ab0a97-26b5-42df-97a6-10b3b4d73c14",
   "metadata": {},
   "source": [
    "The PIL library is used to open image content into an array."
   ]
  },
  {
   "cell_type": "code",
   "execution_count": 2,
   "id": "269c8e3a-b05a-414f-be3e-3f6dba2bb397",
   "metadata": {},
   "outputs": [],
   "source": [
    "data = []\n",
    "labels = []\n",
    "classes = 43\n",
    "cur_path = os.getcwd()\n",
    "\n",
    "#Retrieving the images and their labels \n",
    "for i in range(classes):\n",
    "    path = os.path.join(cur_path,'dataset/Train',str(i)) # training dataset path will goes here\n",
    "    images = os.listdir(path)\n",
    "    for a in images:\n",
    "        try:\n",
    "            image = Image.open(os.path.join(path, a))\n",
    "            image = image.resize((30,30))\n",
    "            image = np.array(image)\n",
    "            #sim = Image.fromarray(image)\n",
    "            data.append(image)\n",
    "            labels.append(i)\n",
    "        except Exception as e:\n",
    "            print(\"Error loading image\")\n",
    "        # break\n",
    "\n",
    "\n",
    "#Converting lists into numpy arrays\n",
    "data = np.array(data)\n",
    "labels = np.array(labels)"
   ]
  },
  {
   "cell_type": "code",
   "execution_count": 3,
   "id": "816a98f0-f17c-4073-a7ec-ea22ff97fdf1",
   "metadata": {},
   "outputs": [
    {
     "name": "stdout",
     "output_type": "stream",
     "text": [
      "(31367, 30, 30, 3) (7842, 30, 30, 3) (31367,) (7842,)\n"
     ]
    }
   ],
   "source": [
    "#Splitting training and testing dataset\n",
    "X_train, X_test, y_train, y_test = train_test_split(data, labels, test_size=0.2, random_state=42)\n",
    "print(X_train.shape, X_test.shape, y_train.shape, y_test.shape)\n",
    "#Converting the labels into one hot encoding\n",
    "y_train = to_categorical(y_train, 43)\n",
    "y_test = to_categorical(y_test, 43)\n"
   ]
  },
  {
   "cell_type": "markdown",
   "id": "39775302-42be-487d-b0e8-3b1571a4ab2f",
   "metadata": {},
   "source": [
    "Building the model/Compile the model"
   ]
  },
  {
   "cell_type": "code",
   "execution_count": 4,
   "id": "66c348e7-95db-4af7-8d1c-3de4a884c23a",
   "metadata": {},
   "outputs": [
    {
     "name": "stderr",
     "output_type": "stream",
     "text": [
      "2023-08-04 11:46:39.643212: I tensorflow/compiler/xla/stream_executor/cuda/cuda_gpu_executor.cc:995] successful NUMA node read from SysFS had negative value (-1), but there must be at least one NUMA node, so returning NUMA node zero. See more at https://github.com/torvalds/linux/blob/v6.0/Documentation/ABI/testing/sysfs-bus-pci#L344-L355\n",
      "2023-08-04 11:46:39.644110: W tensorflow/core/common_runtime/gpu/gpu_device.cc:1960] Cannot dlopen some GPU libraries. Please make sure the missing libraries mentioned above are installed properly if you would like to use GPU. Follow the guide at https://www.tensorflow.org/install/gpu for how to download and setup the required libraries for your platform.\n",
      "Skipping registering GPU devices...\n"
     ]
    }
   ],
   "source": [
    "#Building the model\n",
    "model = Sequential()\n",
    "model.add(Conv2D(filters=32, kernel_size=(5,5), activation='relu', input_shape=X_train.shape[1:]))\n",
    "model.add(Conv2D(filters=32, kernel_size=(5,5), activation='relu'))\n",
    "model.add(MaxPool2D(pool_size=(2, 2)))\n",
    "model.add(Dropout(rate=0.25))\n",
    "model.add(Conv2D(filters=64, kernel_size=(3, 3), activation='relu'))\n",
    "model.add(Conv2D(filters=64, kernel_size=(3, 3), activation='relu'))\n",
    "model.add(MaxPool2D(pool_size=(2, 2)))\n",
    "model.add(Dropout(rate=0.25))\n",
    "model.add(Flatten())\n",
    "model.add(Dense(256, activation='relu'))\n",
    "model.add(Dropout(rate=0.5))\n",
    "model.add(Dense(43, activation='softmax'))\n",
    "#Compilation of the model\n",
    "model.compile(loss='categorical_crossentropy', optimizer='adam', metrics=['accuracy'])"
   ]
  },
  {
   "cell_type": "code",
   "execution_count": 5,
   "id": "8455ffaf-c89a-4859-9211-d0c05177ec9f",
   "metadata": {},
   "outputs": [
    {
     "name": "stdout",
     "output_type": "stream",
     "text": [
      "Epoch 1/15\n",
      "981/981 [==============================] - 18s 18ms/step - loss: 2.0632 - accuracy: 0.4649 - val_loss: 0.6905 - val_accuracy: 0.8152\n",
      "Epoch 2/15\n",
      "981/981 [==============================] - 17s 18ms/step - loss: 0.8397 - accuracy: 0.7522 - val_loss: 0.2821 - val_accuracy: 0.9287\n",
      "Epoch 3/15\n",
      "981/981 [==============================] - 17s 18ms/step - loss: 0.5317 - accuracy: 0.8465 - val_loss: 0.2062 - val_accuracy: 0.9396\n",
      "Epoch 4/15\n",
      "981/981 [==============================] - 17s 17ms/step - loss: 0.4353 - accuracy: 0.8756 - val_loss: 0.1354 - val_accuracy: 0.9631\n",
      "Epoch 5/15\n",
      "981/981 [==============================] - 17s 17ms/step - loss: 0.3564 - accuracy: 0.8985 - val_loss: 0.1075 - val_accuracy: 0.9685\n",
      "Epoch 6/15\n",
      "981/981 [==============================] - 17s 18ms/step - loss: 0.3204 - accuracy: 0.9082 - val_loss: 0.0863 - val_accuracy: 0.9778\n",
      "Epoch 7/15\n",
      "981/981 [==============================] - 17s 17ms/step - loss: 0.2882 - accuracy: 0.9173 - val_loss: 0.1298 - val_accuracy: 0.9605\n",
      "Epoch 8/15\n",
      "981/981 [==============================] - 17s 18ms/step - loss: 0.2854 - accuracy: 0.9203 - val_loss: 0.0945 - val_accuracy: 0.9745\n",
      "Epoch 9/15\n",
      "981/981 [==============================] - 17s 17ms/step - loss: 0.2707 - accuracy: 0.9228 - val_loss: 0.0606 - val_accuracy: 0.9841\n",
      "Epoch 10/15\n",
      "981/981 [==============================] - 17s 17ms/step - loss: 0.2516 - accuracy: 0.9310 - val_loss: 0.0601 - val_accuracy: 0.9843\n",
      "Epoch 11/15\n",
      "981/981 [==============================] - 17s 18ms/step - loss: 0.2489 - accuracy: 0.9318 - val_loss: 0.0725 - val_accuracy: 0.9793\n",
      "Epoch 12/15\n",
      "981/981 [==============================] - 18s 18ms/step - loss: 0.2331 - accuracy: 0.9365 - val_loss: 0.1093 - val_accuracy: 0.9682\n",
      "Epoch 13/15\n",
      "981/981 [==============================] - 17s 18ms/step - loss: 0.2189 - accuracy: 0.9404 - val_loss: 0.0597 - val_accuracy: 0.9825\n",
      "Epoch 14/15\n",
      "981/981 [==============================] - 17s 18ms/step - loss: 0.2205 - accuracy: 0.9416 - val_loss: 0.0671 - val_accuracy: 0.9813\n",
      "Epoch 15/15\n",
      "981/981 [==============================] - 19s 20ms/step - loss: 0.2291 - accuracy: 0.9403 - val_loss: 0.0574 - val_accuracy: 0.9869\n"
     ]
    },
    {
     "name": "stderr",
     "output_type": "stream",
     "text": [
      "../local/lib/python3.10/site-packages/keras/src/engine/training.py:3000: UserWarning: You are saving your model as an HDF5 file via `model.save()`. This file format is considered legacy. We recommend using instead the native Keras format, e.g. `model.save('my_model.keras')`.\n",
      "  saving_api.save_model(\n"
     ]
    }
   ],
   "source": [
    "\n",
    "epochs = 15\n",
    "history = model.fit(X_train, y_train, batch_size=32, epochs=epochs, validation_data=(X_test, y_test))\n",
    "model.save(\"my_model.h5\")"
   ]
  },
  {
   "cell_type": "code",
   "execution_count": 6,
   "id": "3fb3d177-14e7-4a91-b0fb-f0208869bf3b",
   "metadata": {},
   "outputs": [
    {
     "data": {
      "image/png": "[encoded data removed]",
      "text/plain": [
       "<Figure size 432x288 with 1 Axes>"
      ]
     },
     "metadata": {
      "needs_background": "light"
     },
     "output_type": "display_data"
    },
    {
     "data": {
      "image/png": "[encoded data removed]",
      "text/plain": [
       "<Figure size 432x288 with 1 Axes>"
      ]
     },
     "metadata": {
      "needs_background": "light"
     },
     "output_type": "display_data"
    }
   ],
   "source": [
    "\n",
    "#plotting graphs for accuracy \n",
    "plt.figure(0)\n",
    "plt.plot(history.history['accuracy'], label='training accuracy')\n",
    "plt.plot(history.history['val_accuracy'], label='val accuracy')\n",
    "plt.title('Accuracy')\n",
    "plt.xlabel('epochs')\n",
    "plt.ylabel('accuracy')\n",
    "plt.legend()\n",
    "plt.show()\n",
    "plt.figure(1)\n",
    "plt.plot(history.history['loss'], label='training loss')\n",
    "plt.plot(history.history['val_loss'], label='val loss')\n",
    "plt.title('Loss')\n",
    "plt.xlabel('epochs')\n",
    "plt.ylabel('loss')\n",
    "plt.legend()\n",
    "plt.show()"
   ]
  },
  {
   "cell_type": "code",
   "execution_count": 7,
   "id": "5fa70992-e06d-4aaa-be17-2e17eddefc3e",
   "metadata": {},
   "outputs": [
    {
     "data": {
      "text/plain": [
       "[0.6904531121253967,\n",
       " 0.2821439504623413,\n",
       " 0.20624355971813202,\n",
       " 0.13540908694267273,\n",
       " 0.1074937954545021,\n",
       " 0.08629702031612396,\n",
       " 0.1297958493232727,\n",
       " 0.09452874213457108,\n",
       " 0.06058863177895546,\n",
       " 0.06006166338920593,\n",
       " 0.07253815978765488,\n",
       " 0.10928323119878769,\n",
       " 0.0596921481192112,\n",
       " 0.06711923331022263,\n",
       " 0.057388775050640106]"
      ]
     },
     "execution_count": 7,
     "metadata": {},
     "output_type": "execute_result"
    }
   ],
   "source": [
    "history.history['val_loss']"
   ]
  },
  {
   "cell_type": "code",
   "execution_count": 8,
   "id": "f76ccb2c-1349-4832-b809-4b69b90502c8",
   "metadata": {},
   "outputs": [
    {
     "name": "stdout",
     "output_type": "stream",
     "text": [
      "Model: \"sequential\"\n",
      "_________________________________________________________________\n",
      " Layer (type)                Output Shape              Param #   \n",
      "=================================================================\n",
      " conv2d (Conv2D)             (None, 26, 26, 32)        2432      \n",
      "                                                                 \n",
      " conv2d_1 (Conv2D)           (None, 22, 22, 32)        25632     \n",
      "                                                                 \n",
      " max_pooling2d (MaxPooling2  (None, 11, 11, 32)        0         \n",
      " D)                                                              \n",
      "                                                                 \n",
      " dropout (Dropout)           (None, 11, 11, 32)        0         \n",
      "                                                                 \n",
      " conv2d_2 (Conv2D)           (None, 9, 9, 64)          18496     \n",
      "                                                                 \n",
      " conv2d_3 (Conv2D)           (None, 7, 7, 64)          36928     \n",
      "                                                                 \n",
      " max_pooling2d_1 (MaxPoolin  (None, 3, 3, 64)          0         \n",
      " g2D)                                                            \n",
      "                                                                 \n",
      " dropout_1 (Dropout)         (None, 3, 3, 64)          0         \n",
      "                                                                 \n",
      " flatten (Flatten)           (None, 576)               0         \n",
      "                                                                 \n",
      " dense (Dense)               (None, 256)               147712    \n",
      "                                                                 \n",
      " dropout_2 (Dropout)         (None, 256)               0         \n",
      "                                                                 \n",
      " dense_1 (Dense)             (None, 43)                11051     \n",
      "                                                                 \n",
      "=================================================================\n",
      "Total params: 242251 (946.29 KB)\n",
      "Trainable params: 242251 (946.29 KB)\n",
      "Non-trainable params: 0 (0.00 Byte)\n",
      "_________________________________________________________________\n"
     ]
    }
   ],
   "source": [
    "model.summary()"
   ]
  },
  {
   "cell_type": "code",
   "execution_count": 9,
   "id": "53586901-5fb5-4c1a-ba18-91114dbc1365",
   "metadata": {},
   "outputs": [
    {
     "name": "stdout",
     "output_type": "stream",
     "text": [
      "395/395 [==============================] - 2s 4ms/step\n",
      "0.9517814726840855\n"
     ]
    },
    {
     "name": "stderr",
     "output_type": "stream",
     "text": [
      "../local/lib/python3.10/site-packages/keras/src/engine/training.py:3000: UserWarning: You are saving your model as an HDF5 file via `model.save()`. This file format is considered legacy. We recommend using instead the native Keras format, e.g. `model.save('my_model.keras')`.\n",
      "  saving_api.save_model(\n"
     ]
    }
   ],
   "source": [
    "#testing accuracy on test dataset\n",
    "from sklearn.metrics import accuracy_score\n",
    "y_test = pd.read_csv('dataset/Test.csv') # Testing dataset's csv file path will goes here\n",
    "labels = y_test[\"ClassId\"].values\n",
    "imgs = y_test[\"Path\"].values\n",
    "data=[]\n",
    "for img in imgs:\n",
    "    img = f\"dataset/Test/{img}\" # Testing dataset path will goes here\n",
    "    image = Image.open(img)\n",
    "    image = image.resize((30,30))\n",
    "    data.append(np.array(image))\n",
    "    \n",
    "X_test=np.array(data)\n",
    "# pred = model.predict_classes(X_test)\n",
    "pred = model.predict(X_test)\n",
    "pred = np.argmax(pred, axis=-1)\n",
    "#Accuracy with the test data\n",
    "from sklearn.metrics import accuracy_score\n",
    "print(accuracy_score(labels, pred))\n",
    "\n",
    "model.save('traffic_classifier.h5')"
   ]
  },
  {
   "cell_type": "code",
   "execution_count": 30,
   "id": "fe49d2b3-e4ce-4029-9886-03a6b33a408a",
   "metadata": {},
   "outputs": [],
   "source": [
    "classes = { 1:'Speed limit (20km/h)',\n",
    "            2:'Speed limit (30km/h)', \n",
    "            3:'Speed limit (50km/h)', \n",
    "            4:'Speed limit (60km/h)', \n",
    "            5:'Speed limit (70km/h)', \n",
    "            6:'Speed limit (80km/h)', \n",
    "            7:'End of speed limit (80km/h)', \n",
    "            8:'Speed limit (100km/h)', \n",
    "            9:'Speed limit (120km/h)', \n",
    "            10:'No passing', \n",
    "            11:'No passing veh over 3.5 tons', \n",
    "            12:'Right-of-way at intersection', \n",
    "            13:'Priority road', \n",
    "            14:'Yield', \n",
    "            15:'Stop', \n",
    "            16:'No vehicles', \n",
    "            17:'Veh > 3.5 tons prohibited', \n",
    "            18:'No entry', \n",
    "            19:'General caution', \n",
    "            20:'Dangerous curve left', \n",
    "            21:'Dangerous curve right', \n",
    "            22:'Double curve', \n",
    "            23:'Bumpy road', \n",
    "            24:'Slippery road', \n",
    "            25:'Road narrows on the right', \n",
    "            26:'Road work', \n",
    "            27:'Traffic signals', \n",
    "            28:'Pedestrians', \n",
    "            29:'Children crossing', \n",
    "            30:'Bicycles crossing', \n",
    "            31:'Beware of ice/snow',\n",
    "            32:'Wild animals crossing', \n",
    "            33:'End speed + passing limits', \n",
    "            34:'Turn right ahead', \n",
    "            35:'Turn left ahead', \n",
    "            36:'Ahead only', \n",
    "            37:'Go straight or right', \n",
    "            38:'Go straight or left', \n",
    "            39:'Keep right', \n",
    "            40:'Keep left', \n",
    "            41:'Roundabout mandatory', \n",
    "            42:'End of no passing', \n",
    "            43:'End no passing veh > 3.5 tons' }"
   ]
  },
  {
   "cell_type": "code",
   "execution_count": 34,
   "id": "4a727327-6d7e-4108-90d2-15acbebcd727",
   "metadata": {},
   "outputs": [
    {
     "name": "stdout",
     "output_type": "stream",
     "text": [
      "1/1 [==============================] - 1s 521ms/step\n"
     ]
    }
   ],
   "source": [
    "from keras.models import load_model\n",
    "model = load_model(\"traffic_classifier.h5\")\n",
    "file_path = r\"D:\\Users\\ankus\\Desktop\\traffic_project\\app\\static\\dataset\\Test\\00034.png\"\n",
    "image = Image.open(file_path)\n",
    "image = image.resize((30, 30))\n",
    "image = np.expand_dims(image, axis=0)\n",
    "image = np.array(image)\n",
    "pred = model.predict(image[:, :, :, :3])[0]\n",
    "#Accuracy with the test data"
   ]
  },
  {
   "cell_type": "code",
   "execution_count": 35,
   "id": "b021aa76-d2d1-4038-99ac-53c95bfcf333",
   "metadata": {},
   "outputs": [
    {
     "data": {
      "text/plain": [
       "'Speed limit (50km/h)'"
      ]
     },
     "execution_count": 35,
     "metadata": {},
     "output_type": "execute_result"
    }
   ],
   "source": [
    "# sign = classes[pred]\n",
    "# print(sign)\n",
    "classes[np.argmax(pred, axis=-1) + 1]"
   ]
  }
 ],
 "metadata": {
  "kernelspec": {
   "display_name": "Python 3 (ipykernel)",
   "language": "python",
   "name": "python3"
  },
  "language_info": {
   "codemirror_mode": {
    "name": "ipython",
    "version": 3
   },
   "file_extension": ".py",
   "mimetype": "text/x-python",
   "name": "python",
   "nbconvert_exporter": "python",
   "pygments_lexer": "ipython3",
   "version": "3.10.6"
  }
 },
 "nbformat": 4,
 "nbformat_minor": 5
}
